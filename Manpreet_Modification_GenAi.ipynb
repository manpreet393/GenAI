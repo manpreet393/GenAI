{
  "nbformat": 4,
  "nbformat_minor": 0,
  "metadata": {
    "colab": {
      "provenance": [],
      "include_colab_link": true
    },
    "kernelspec": {
      "name": "python3",
      "display_name": "Python 3"
    },
    "language_info": {
      "name": "python"
    }
  },
  "cells": [
    {
      "cell_type": "markdown",
      "metadata": {
        "id": "view-in-github",
        "colab_type": "text"
      },
      "source": [
        "<a href=\"https://colab.research.google.com/github/manpreet393/GenAI/blob/main/Manpreet_Modification_GenAi.ipynb\" target=\"_parent\"><img src=\"https://colab.research.google.com/assets/colab-badge.svg\" alt=\"Open In Colab\"/></a>"
      ]
    },
    {
      "cell_type": "markdown",
      "source": [
        "# Title : AI Content Creation Using the Replicates API\n"
      ],
      "metadata": {
        "id": "a8oeaNTHnTAd"
      }
    },
    {
      "cell_type": "markdown",
      "source": [
        "#Project Scope\n",
        "\n",
        "The main purpose of the study is to find out how well the Replicate platform works as a content creator powered by artificial intelligence. We will use pre-trained models to make images and movies that show how Replicate can be used for a lot of different kinds of creative projects.\n",
        "\n",
        "\n",
        "\n",
        "\n",
        "\n",
        "\n",
        "\n"
      ],
      "metadata": {
        "id": "7fTg6bjlnehw"
      }
    },
    {
      "cell_type": "markdown",
      "source": [
        "# Group Members\n",
        "\n",
        "```\n",
        "Manpreet Singh- 4348393\n",
        "```"
      ],
      "metadata": {
        "id": "wmCL6QcqO_t9"
      }
    },
    {
      "cell_type": "markdown",
      "source": [
        "# Brief Project Description\n",
        "\n",
        "During this inquiry, we will thoroughly examine the characteristics and functionalities provided by the Replicate platform. Various Replicate models will be used to demonstrate the many processes involved in creating images and videos. Identifying potential applications, verifying the reliability of the provided data, and comprehending the capabilities of the model are all objectives.\n",
        "\n",
        "\n",
        "\n",
        "\n",
        "\n",
        "\n",
        "\n",
        "\n"
      ],
      "metadata": {
        "id": "YriYl2mYogaI"
      }
    },
    {
      "cell_type": "markdown",
      "source": [
        "### Project Objective\n",
        "\n",
        "The platform is enhanced by using Gen AI's Replicate API in this project. It is possible to duplicate intricate algorithms, models, and data structures. Our objective is to streamline the process of simplifying AI models and replicating data for the purpose of transferring knowledge and enhancing scalability across various applications.\n",
        "\n",
        "\n",
        "\n",
        "\n",
        "\n"
      ],
      "metadata": {
        "id": "elcPLIXbpqvc"
      }
    },
    {
      "cell_type": "markdown",
      "source": [
        "### Project Outcome"
      ],
      "metadata": {
        "id": "VbFJWVVzqBH4"
      }
    },
    {
      "cell_type": "markdown",
      "source": [
        "* Gen AI's Replicate API will improve the quality and speed of replicating AI models and datasets. Reducing human work and enabling replication might accomplish this.\n",
        "\n",
        "* Gen AI users should be able to easily replicate complex data structures and AI models, allowing them to be used in a variety of contexts and applications.\n",
        "\n",
        "* Gen AI will be able to increase its user base, innovate more quickly, decrease development delays, and optimize its user experience thanks to the Replicate API.\n",
        "\n",
        "\n",
        "\n",
        "\n",
        "\n",
        "\n",
        "\n",
        "\n",
        "\n",
        "\n",
        "\n",
        "\n",
        "\n"
      ],
      "metadata": {
        "id": "j4zJpzyBqD-p"
      }
    },
    {
      "cell_type": "markdown",
      "source": [
        "### Modification/New Specification\n",
        "\n",
        "* Enter your Replicate API key to get started. The process of registering an API starts here. You need this key in order to verify your identity and use the functionalities of the Replicate API.\n",
        "\n",
        "* Formulate inquiries that specify the kind of writing that should follow. Phrases like \"A peaceful landscape with mountains and a lake\" may be used to create images. Some examples of movie titles include \"A sunrise over a calm ocean\" and \"The sun setting behind a city skyline.\"\n",
        "\n",
        "* You may see the images, videos, and GIFs you've created directly in Google Colab by selecting the appropriate display choices. This implies that the created material is immediately viewable.\n",
        "\n",
        "* Depending on the particular requirements and objectives of each project, these video materials may be modified, added to, or used for study.\n",
        "\n",
        "\n",
        "\n",
        "\n"
      ],
      "metadata": {
        "id": "jv5keaSRqgpK"
      }
    },
    {
      "cell_type": "markdown",
      "source": [
        "## Criteria Specific Cell\n",
        "* Technological developments in algorithms:\n",
        "Via the Replicate API, potentially novel methods for accelerating and optimizing AI model training will be accessible. This would preserve or even improve the accuracy of the model while cutting down on its convergence time.\n",
        "\n",
        "* Enhanced output:\n",
        "Through the merger, new strategies that make better use of the resources already available are made possible. Users will be able to produce high-quality graphic stuff with minimal computing resources. This will make the data available to a far larger audience.\n",
        "\n",
        "* Innovative and creative suggestions:\n",
        "Through the application programming interface, users may use its capabilities to produce artistic content (API). For example, information that is visually appealing may be created from written instructions. Use this to develop prototypes, storyboards, or illustrations for your ideas.\n",
        "\n",
        "\n",
        "\n",
        "\n",
        "\n"
      ],
      "metadata": {
        "id": "MShi7xnVBoKh"
      }
    },
    {
      "cell_type": "markdown",
      "source": [
        "## 1. Replicate will be installed on our Google Colab notebook account as part of this procedure.\n",
        "\n"
      ],
      "metadata": {
        "id": "KscP6qEZsYIM"
      }
    },
    {
      "cell_type": "code",
      "execution_count": null,
      "metadata": {
        "colab": {
          "base_uri": "https://localhost:8080/"
        },
        "id": "sH6k2w4z7-Hw",
        "outputId": "3f2fda64-2be1-4980-f4dd-f1a7d437d599"
      },
      "outputs": [
        {
          "output_type": "stream",
          "name": "stdout",
          "text": [
            "Collecting replicate\n",
            "  Downloading replicate-0.21.1-py3-none-any.whl (35 kB)\n",
            "Collecting httpx<1,>=0.21.0 (from replicate)\n",
            "  Downloading httpx-0.25.2-py3-none-any.whl (74 kB)\n",
            "\u001b[2K     \u001b[90m━━━━━━━━━━━━━━━━━━━━━━━━━━━━━━━━━━━━━━━━\u001b[0m \u001b[32m75.0/75.0 kB\u001b[0m \u001b[31m3.6 MB/s\u001b[0m eta \u001b[36m0:00:00\u001b[0m\n",
            "\u001b[?25hRequirement already satisfied: packaging in /usr/local/lib/python3.10/dist-packages (from replicate) (23.2)\n",
            "Requirement already satisfied: pydantic>1 in /usr/local/lib/python3.10/dist-packages (from replicate) (1.10.13)\n",
            "Requirement already satisfied: typing-extensions>=4.5.0 in /usr/local/lib/python3.10/dist-packages (from replicate) (4.5.0)\n",
            "Requirement already satisfied: anyio in /usr/local/lib/python3.10/dist-packages (from httpx<1,>=0.21.0->replicate) (3.7.1)\n",
            "Requirement already satisfied: certifi in /usr/local/lib/python3.10/dist-packages (from httpx<1,>=0.21.0->replicate) (2023.11.17)\n",
            "Collecting httpcore==1.* (from httpx<1,>=0.21.0->replicate)\n",
            "  Downloading httpcore-1.0.2-py3-none-any.whl (76 kB)\n",
            "\u001b[2K     \u001b[90m━━━━━━━━━━━━━━━━━━━━━━━━━━━━━━━━━━━━━━━━\u001b[0m \u001b[32m76.9/76.9 kB\u001b[0m \u001b[31m13.3 MB/s\u001b[0m eta \u001b[36m0:00:00\u001b[0m\n",
            "\u001b[?25hRequirement already satisfied: idna in /usr/local/lib/python3.10/dist-packages (from httpx<1,>=0.21.0->replicate) (3.6)\n",
            "Requirement already satisfied: sniffio in /usr/local/lib/python3.10/dist-packages (from httpx<1,>=0.21.0->replicate) (1.3.0)\n",
            "Collecting h11<0.15,>=0.13 (from httpcore==1.*->httpx<1,>=0.21.0->replicate)\n",
            "  Downloading h11-0.14.0-py3-none-any.whl (58 kB)\n",
            "\u001b[2K     \u001b[90m━━━━━━━━━━━━━━━━━━━━━━━━━━━━━━━━━━━━━━━━\u001b[0m \u001b[32m58.3/58.3 kB\u001b[0m \u001b[31m8.9 MB/s\u001b[0m eta \u001b[36m0:00:00\u001b[0m\n",
            "\u001b[?25hRequirement already satisfied: exceptiongroup in /usr/local/lib/python3.10/dist-packages (from anyio->httpx<1,>=0.21.0->replicate) (1.2.0)\n",
            "Installing collected packages: h11, httpcore, httpx, replicate\n",
            "Successfully installed h11-0.14.0 httpcore-1.0.2 httpx-0.25.2 replicate-0.21.1\n"
          ]
        }
      ],
      "source": [
        "# @title Install Replicate\n",
        "!pip install replicate\n"
      ]
    },
    {
      "cell_type": "markdown",
      "source": [
        "## 2. In this phase, we are exporting our Replicate application programming interface (API), which is used to create pictures, movies, and GIFs.\n",
        "\n",
        "\n"
      ],
      "metadata": {
        "id": "ppIJUwD6skRB"
      }
    },
    {
      "cell_type": "code",
      "source": [
        "API = \"r8_F8MHK8ybuHXDOjhIrADYxAycXW3ukUr0o2rX5\"\n",
        "import os\n",
        "\n",
        "os.environ[\"REPLICATE_API_TOKEN\"] = API #find it here: https://replicate.com/signin?next=/account/api-tokens"
      ],
      "metadata": {
        "id": "FYCtnQZDlqZZ"
      },
      "execution_count": null,
      "outputs": []
    },
    {
      "cell_type": "markdown",
      "source": [
        "## 3) In our Google Colab notebook, we will make an image as the third step in this procedure.\n",
        "\n"
      ],
      "metadata": {
        "id": "ghvyYSHYs1KT"
      }
    },
    {
      "cell_type": "code",
      "source": [
        "# @title Generate Image\n",
        "prompt = \"Person sleeping\"\n",
        "import replicate\n",
        "\n",
        "output = replicate.run(\n",
        "  \"stability-ai/stable-diffusion:27b93a2413e7f36cd83da926f3656280b2931564ff050bf9575f1fdf9bcd7478\",\n",
        "  input={\"prompt\":prompt}\n",
        ")\n",
        "\n",
        "output"
      ],
      "metadata": {
        "id": "HoEceNpTlzjE",
        "outputId": "80f8b400-0c22-4ce9-b5d5-8dcbd5b5ba2b",
        "colab": {
          "base_uri": "https://localhost:8080/"
        }
      },
      "execution_count": null,
      "outputs": [
        {
          "output_type": "execute_result",
          "data": {
            "text/plain": [
              "['https://replicate.delivery/pbxt/1rDWk7Rr2T5jHh8BroCwuqRHmixydRaQ7UDmzwS2JlbCrvfIA/out-0.png']"
            ]
          },
          "metadata": {},
          "execution_count": 3
        }
      ]
    },
    {
      "cell_type": "markdown",
      "source": [
        "## 4) We will now display the image that we made using Google Colab Notebook.\n",
        "\n",
        "\n"
      ],
      "metadata": {
        "id": "CrfFJWoQtFQa"
      }
    },
    {
      "cell_type": "code",
      "source": [
        "\n",
        "from IPython.display import Image\n",
        "output_image = output\n",
        "Image(url=output_image[0])"
      ],
      "metadata": {
        "id": "eUZbVWswl7OC",
        "outputId": "96d4b1f6-ade7-40fa-ba9e-7be5d838007f",
        "colab": {
          "base_uri": "https://localhost:8080/",
          "height": 533
        }
      },
      "execution_count": null,
      "outputs": [
        {
          "output_type": "execute_result",
          "data": {
            "text/html": [
              "<img src=\"https://replicate.delivery/pbxt/1rDWk7Rr2T5jHh8BroCwuqRHmixydRaQ7UDmzwS2JlbCrvfIA/out-0.png\"/>"
            ],
            "text/plain": [
              "<IPython.core.display.Image object>"
            ]
          },
          "metadata": {},
          "execution_count": 4
        }
      ]
    },
    {
      "cell_type": "markdown",
      "source": [
        "## 5) In this phase, we will create a Video, gif, or animation using the prompt command in Google Colab Notebook.\n",
        "\n",
        "\n",
        "\n"
      ],
      "metadata": {
        "id": "Uieqe7AYtTSN"
      }
    },
    {
      "cell_type": "code",
      "source": [
        "# @title Video/gif/animation/Generation\n",
        "import replicate\n",
        "\n",
        "output = replicate.run(\n",
        "    \"andreasjansson/stable-diffusion-animation:ca1f5e306e5721e19c473e0d094e6603f0456fe759c10715fcd6c1b79242d4a5\",\n",
        "    input={\n",
        "        \"prompt_start\": \"Person sleeping in right side\",\n",
        "        \"prompt_end\": \"Person sleeping in left side\",\n",
        "        \"output_format\": \"gif\",\n",
        "        \"gif_ping_pong\": True\n",
        "    }\n",
        ")\n",
        "\n",
        "output\n"
      ],
      "metadata": {
        "id": "6e9xdZavl-h1",
        "outputId": "0dea9e28-4031-4fcb-eb49-072eae4aa362",
        "colab": {
          "base_uri": "https://localhost:8080/"
        }
      },
      "execution_count": null,
      "outputs": [
        {
          "output_type": "execute_result",
          "data": {
            "text/plain": [
              "<generator object Prediction.output_iterator at 0x7a8a0776ca50>"
            ]
          },
          "metadata": {},
          "execution_count": 5
        }
      ]
    },
    {
      "cell_type": "markdown",
      "source": [
        "## 6) Making a video in Google Colab is the next step in the procedure.\n",
        "\n",
        "\n"
      ],
      "metadata": {
        "id": "eaVUkcx3tnUg"
      }
    },
    {
      "cell_type": "code",
      "source": [
        "# @title generate video\n",
        "for item in output:\n",
        "     #https://replicate.com/andreasjansson/stable-diffusion-animation/versions/ca1f5e306e5721e19c473e0d094e6603f0456fe759c10715fcd6c1b79242d4a5/api#output-schema\n",
        "    print(item)"
      ],
      "metadata": {
        "id": "RAGe2-zRmMKP",
        "outputId": "88e53737-faee-4d02-f60d-2ae030b5a0ba",
        "colab": {
          "base_uri": "https://localhost:8080/"
        }
      },
      "execution_count": null,
      "outputs": [
        {
          "output_type": "stream",
          "name": "stdout",
          "text": [
            "https://replicate.delivery/pbxt/8iQOq0U9Lb50AhNO7b9LgnenhfsWfZZwRBLjNLPeCl3uf13PC/video.gif\n"
          ]
        }
      ]
    },
    {
      "cell_type": "markdown",
      "source": [
        "## 7) we Now get the Video/GIFs from Google Colab.\n",
        "\n",
        "\n"
      ],
      "metadata": {
        "id": "OZATf-fpz0s2"
      }
    },
    {
      "cell_type": "code",
      "source": [
        "# @title get the video on colab\n",
        "gif_url= item[0:len(item)]"
      ],
      "metadata": {
        "id": "EgeEX5q2mO5c"
      },
      "execution_count": null,
      "outputs": []
    },
    {
      "cell_type": "markdown",
      "source": [
        "## 8) At this moment, the video will be available on Google Colab.\n",
        "\n",
        "\n"
      ],
      "metadata": {
        "id": "NowA6oRDz75A"
      }
    },
    {
      "cell_type": "code",
      "source": [
        "# @title Show the video\n",
        "import requests\n",
        "from IPython.display import display, Image\n",
        "from PIL import Image as PILImage\n",
        "from io import BytesIO\n",
        "response = requests.get(gif_url)\n",
        "if response.status_code == 200:\n",
        "    # Display the GIF in the notebook\n",
        "    display(Image(url=gif_url))\n",
        "\n",
        "    # Save the GIF in the Colab environment\n",
        "    with open(\"gif_output.gif\", \"wb\") as f:\n",
        "        f.write(response.content)\n",
        "\n",
        "    # Show a saved GIF using PIL\n",
        "    saved_gif = PILImage.open(\"gif_output.gif\")\n",
        "    saved_gif.show()\n",
        "else:\n",
        "    print(\"Failed to fetch GIF\")\n"
      ],
      "metadata": {
        "id": "6DHW7LtFmXzG",
        "outputId": "df9b8aee-be4f-4f00-c034-3e8036a83f64",
        "colab": {
          "base_uri": "https://localhost:8080/",
          "height": 533
        }
      },
      "execution_count": null,
      "outputs": [
        {
          "output_type": "display_data",
          "data": {
            "text/html": [
              "<img src=\"https://replicate.delivery/pbxt/8iQOq0U9Lb50AhNO7b9LgnenhfsWfZZwRBLjNLPeCl3uf13PC/video.gif\"/>"
            ],
            "text/plain": [
              "<IPython.core.display.Image object>"
            ]
          },
          "metadata": {}
        }
      ]
    },
    {
      "cell_type": "markdown",
      "source": [
        "# Reference\n",
        "\n",
        "* andreasjansson/stable-diffusion-animation – Replicate. (n.d.). https://replicate.com/andreasjansson/stable-diffusion-animation/api?tab=nodejs\n",
        "\n",
        "* Sign in – Replicate.  https://replicate.com/account/api-tokens\n",
        "* Manpreet. (n.d.). GitHub - manpreet393/GenAI: Here, we focus on educating and enlightening the community about various Generative AI models through hands-on coding tutorials and informative articles. GitHub. https://github.com/manpreet393/GenAI\n",
        "\n",
        "* Google Colab. (n.d.). Colab.google. colab.google. https://colab.google/\n",
        "\n"
      ],
      "metadata": {
        "id": "9hx-49sf0ECp"
      }
    },
    {
      "cell_type": "markdown",
      "source": [
        "# Video Link\n"
      ],
      "metadata": {
        "id": "gAieFQhW0YAO"
      }
    },
    {
      "cell_type": "markdown",
      "source": [
        "THANKYOU\n",
        "\n"
      ],
      "metadata": {
        "id": "CJwKjZec0aCp"
      }
    }
  ]
}